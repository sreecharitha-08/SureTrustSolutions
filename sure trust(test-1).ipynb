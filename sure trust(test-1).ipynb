{
 "cells": [
  {
   "cell_type": "markdown",
   "id": "88a2c757",
   "metadata": {},
   "source": [
    "Question 1:Load the Titanic dataset using Pandas and convert the following numeric columns into a\n",
    "NumPy array:\n",
    "o age, fare, and survived."
   ]
  },
  {
   "cell_type": "code",
   "execution_count": 1,
   "id": "050f902f",
   "metadata": {},
   "outputs": [],
   "source": [
    "import pandas as pd\n",
    "import numpy as np"
   ]
  },
  {
   "cell_type": "code",
   "execution_count": 2,
   "id": "c81ceca9",
   "metadata": {},
   "outputs": [],
   "source": [
    "df=pd.read_csv(r'C:\\Users\\SREE CHARITHA\\Documents\\Downloads\\Titanic-Dataset.csv')"
   ]
  },
  {
   "cell_type": "markdown",
   "id": "d6119731",
   "metadata": {},
   "source": [
    "# Select the required columns and convert to NumPy array"
   ]
  },
  {
   "cell_type": "code",
   "execution_count": 3,
   "id": "44861b26",
   "metadata": {},
   "outputs": [
    {
     "name": "stdout",
     "output_type": "stream",
     "text": [
      "(891, 3)\n",
      "[[22.      7.25    0.    ]\n",
      " [38.     71.2833  1.    ]\n",
      " [26.      7.925   1.    ]\n",
      " [35.     53.1     1.    ]\n",
      " [35.      8.05    0.    ]]\n"
     ]
    }
   ],
   "source": [
    "titanic_arr=df[['Age', 'Fare', 'Survived']].to_numpy()\n",
    "print(titanic_arr.shape)\n",
    "print(titanic_arr[:5, :])"
   ]
  },
  {
   "cell_type": "markdown",
   "id": "fe6f5ce5",
   "metadata": {},
   "source": [
    "Removing Rows with Missing Values"
   ]
  },
  {
   "cell_type": "code",
   "execution_count": 4,
   "id": "b20f05da",
   "metadata": {},
   "outputs": [
    {
     "name": "stdout",
     "output_type": "stream",
     "text": [
      "(714, 3)\n",
      "[[22.      7.25    0.    ]\n",
      " [38.     71.2833  1.    ]\n",
      " [26.      7.925   1.    ]\n",
      " [35.     53.1     1.    ]\n",
      " [35.      8.05    0.    ]]\n"
     ]
    }
   ],
   "source": [
    "titanic_arr =titanic_arr[~np.isnan(titanic_arr).any(axis=1)]\n",
    "print(titanic_arr.shape)\n",
    "print(titanic_arr[:5, :])"
   ]
  },
  {
   "cell_type": "markdown",
   "id": "adcb1b95",
   "metadata": {},
   "source": [
    "Normalizing Age and Fare Columns using Z-Score Normalization"
   ]
  },
  {
   "cell_type": "code",
   "execution_count": 5,
   "id": "06822608",
   "metadata": {},
   "outputs": [
    {
     "name": "stdout",
     "output_type": "stream",
     "text": [
      "[[-0.53037664 -0.51897787  0.        ]\n",
      " [ 0.57183099  0.69189675  1.        ]\n",
      " [-0.25482473 -0.50621356  1.        ]\n",
      " [ 0.36516706  0.34804915  1.        ]\n",
      " [ 0.36516706 -0.5038498   0.        ]]\n"
     ]
    }
   ],
   "source": [
    "age_mean, age_std=np.mean(titanic_arr[:, 0]), np.std(titanic_arr[:, 0])\n",
    "fare_mean, fare_std=np.mean(titanic_arr[:, 1]), np.std(titanic_arr[:, 1])\n",
    "# Normalize age and fare columns\n",
    "titanic_arr[:, 0] = (titanic_arr[:, 0] - age_mean) / age_std\n",
    "titanic_arr[:, 1] = (titanic_arr[:, 1] - fare_mean) / fare_std\n",
    "print(titanic_arr[:5, :])"
   ]
  },
  {
   "cell_type": "markdown",
   "id": "34f6f324",
   "metadata": {},
   "source": [
    "Computing Mean Age and Mean Fare for Survived and Not Survived Passengers\n"
   ]
  },
  {
   "cell_type": "code",
   "execution_count": 6,
   "id": "445a9799",
   "metadata": {},
   "outputs": [],
   "source": [
    "# Separate survived and not survived passengers\n",
    "survived = titanic_arr[titanic_arr[:, 2] == 1]\n",
    "not_survived = titanic_arr[titanic_arr[:, 2] == 0]\n"
   ]
  },
  {
   "cell_type": "markdown",
   "id": "5614e0fd",
   "metadata": {},
   "source": [
    "# Calculate mean age and fare for survived and not survived passengers"
   ]
  },
  {
   "cell_type": "code",
   "execution_count": null,
   "id": "1fc13e37",
   "metadata": {},
   "outputs": [
    {
     "name": "stdout",
     "output_type": "stream",
     "text": [
      "Mean Age Survived: -0.09337269255785864\n",
      "Mean Fare Survived: 0.3242830655233994\n",
      "Mean Age Not Survived: 0.06386339821174336\n",
      "Mean Fare Not Survived: -0.22179737972119304\n"
     ]
    }
   ],
   "source": [
    "mean_age_survived=np.mean(survived[:, 0])\n",
    "mean_fare_survived=np.mean(survived[:, 1])\n",
    "mean_age_not_survived=np.mean(not_survived[:, 0])\n",
    "mean_fare_not_survived=np.mean(not_survived[:, 1])\n",
    "print(\"Mean Age Survived:\", mean_age_survived)\n",
    "print(\"Mean Fare Survived:\", mean_fare_survived)\n",
    "print(\"Mean Age Not Survived:\", mean_age_not_survived)\n",
    "print(\"Mean Fare Not Survived:\", mean_fare_not_survived)"
   ]
  },
  {
   "cell_type": "markdown",
   "id": "4a91eb09",
   "metadata": {},
   "source": [
    "Classifying Fare as \"Low\" or \"High\" using np.where()\n",
    "\n"
   ]
  },
  {
   "cell_type": "code",
   "execution_count": 8,
   "id": "cefafc01",
   "metadata": {},
   "outputs": [
    {
     "name": "stdout",
     "output_type": "stream",
     "text": [
      "['Low' 'High' 'Low' 'High' 'Low']\n"
     ]
    }
   ],
   "source": [
    "mean_fare = np.mean(titanic_arr[:, 1])\n",
    "# Classify fare as \"Low\" or \"High\"\n",
    "fare_class = np.where(titanic_arr[:, 1] < mean_fare, \"Low\", \"High\")\n",
    "print(fare_class[:5])"
   ]
  },
  {
   "cell_type": "markdown",
   "id": "036e837a",
   "metadata": {},
   "source": [
    "Question 2 (Pandas) – Iris Dataset Summary Report\n",
    "1. Load the Iris dataset using Pandas.\n",
    "2. Create a new column called petal_ratio = petal_length / petal_width.\n",
    "3. Answer the following:\n",
    "o a) What is the average petal_ratio per species?\n",
    "o b) Which species has the highest standard deviation in sepal_length?\n",
    "o c) Filter the dataset to only include rows where sepal_width is above the overall\n",
    "mean.\n",
    "o d) Split the DataFrame into two subsets:\n",
    "▪ One with petal_ratio < 2\n",
    "▪ One with petal_ratio ≥ 2\n",
    "▪ Then stack them vertically using pd.concat."
   ]
  },
  {
   "cell_type": "code",
   "execution_count": 9,
   "id": "4792f499",
   "metadata": {},
   "outputs": [
    {
     "name": "stdout",
     "output_type": "stream",
     "text": [
      "Index(['sepal.length', 'sepal.width', 'petal.length', 'petal.width',\n",
      "       'variety'],\n",
      "      dtype='object')\n"
     ]
    }
   ],
   "source": [
    "#reading the csv file\n",
    "df1=pd.read_csv(r'E:\\iris_doop.csv')\n",
    "print(df1.columns)# prints all columns from a dataset\n",
    "df1['petal_ratio'] = df1['petal.length'] / df1['petal.width']\n"
   ]
  },
  {
   "cell_type": "markdown",
   "id": "5f9555e6",
   "metadata": {},
   "source": [
    "Average Petal Ratio per Species"
   ]
  },
  {
   "cell_type": "code",
   "execution_count": 10,
   "id": "725cb847",
   "metadata": {},
   "outputs": [
    {
     "name": "stdout",
     "output_type": "stream",
     "text": [
      "4.310499757025204\n"
     ]
    }
   ],
   "source": [
    "print(df1['petal_ratio'].mean())#prints mean of this column"
   ]
  },
  {
   "cell_type": "markdown",
   "id": "296d5c6e",
   "metadata": {},
   "source": [
    "Filtering Dataset: Sepal Width Above Mean"
   ]
  },
  {
   "cell_type": "code",
   "execution_count": 11,
   "id": "7e3af87b",
   "metadata": {},
   "outputs": [
    {
     "name": "stdout",
     "output_type": "stream",
     "text": [
      "     sepal.length  sepal.width  petal.length  petal.width    variety  \\\n",
      "0             5.1          3.5           1.4          0.2     Setosa   \n",
      "2             4.7          3.2           1.3          0.2     Setosa   \n",
      "3             4.6          3.1           1.5          0.2     Setosa   \n",
      "4             5.0          3.6           1.4          0.2     Setosa   \n",
      "5             5.4          3.9           1.7          0.4     Setosa   \n",
      "..            ...          ...           ...          ...        ...   \n",
      "140           6.7          3.1           5.6          2.4  Virginica   \n",
      "141           6.9          3.1           5.1          2.3  Virginica   \n",
      "143           6.8          3.2           5.9          2.3  Virginica   \n",
      "144           6.7          3.3           5.7          2.5  Virginica   \n",
      "148           6.2          3.4           5.4          2.3  Virginica   \n",
      "\n",
      "     petal_ratio  \n",
      "0       7.000000  \n",
      "2       6.500000  \n",
      "3       7.500000  \n",
      "4       7.000000  \n",
      "5       4.250000  \n",
      "..           ...  \n",
      "140     2.333333  \n",
      "141     2.217391  \n",
      "143     2.565217  \n",
      "144     2.280000  \n",
      "148     2.347826  \n",
      "\n",
      "[67 rows x 6 columns]\n",
      "     sepal.length  sepal.width  petal.length  petal.width    variety  \\\n",
      "0             5.1          3.5           1.4          0.2     Setosa   \n",
      "1             4.9          3.0           1.4          0.2     Setosa   \n",
      "2             4.7          3.2           1.3          0.2     Setosa   \n",
      "3             4.6          3.1           1.5          0.2     Setosa   \n",
      "4             5.0          3.6           1.4          0.2     Setosa   \n",
      "..            ...          ...           ...          ...        ...   \n",
      "145           6.7          3.0           5.2          2.3  Virginica   \n",
      "146           6.3          2.5           5.0          1.9  Virginica   \n",
      "147           6.5          3.0           5.2          2.0  Virginica   \n",
      "148           6.2          3.4           5.4          2.3  Virginica   \n",
      "149           5.9          3.0           5.1          1.8  Virginica   \n",
      "\n",
      "     petal_ratio  \n",
      "0       7.000000  \n",
      "1       7.000000  \n",
      "2       6.500000  \n",
      "3       7.500000  \n",
      "4       7.000000  \n",
      "..           ...  \n",
      "145     2.260870  \n",
      "146     2.631579  \n",
      "147     2.600000  \n",
      "148     2.347826  \n",
      "149     2.833333  \n",
      "\n",
      "[150 rows x 6 columns]\n"
     ]
    }
   ],
   "source": [
    "print(df1[df1['sepal.width'] > df1['sepal.width'].mean()])\n",
    "#Splitting Petal Ratio < 2 and ≥ 2\n",
    "subset1 = df1[df1['petal_ratio'] < 2]\n",
    "subset2 = df1[df1['petal_ratio'] >= 2]\n",
    "print(pd.concat([subset1, subset2]))"
   ]
  }
 ],
 "metadata": {
  "kernelspec": {
   "display_name": "Python 3",
   "language": "python",
   "name": "python3"
  },
  "language_info": {
   "codemirror_mode": {
    "name": "ipython",
    "version": 3
   },
   "file_extension": ".py",
   "mimetype": "text/x-python",
   "name": "python",
   "nbconvert_exporter": "python",
   "pygments_lexer": "ipython3",
   "version": "3.13.2"
  }
 },
 "nbformat": 4,
 "nbformat_minor": 5
}
