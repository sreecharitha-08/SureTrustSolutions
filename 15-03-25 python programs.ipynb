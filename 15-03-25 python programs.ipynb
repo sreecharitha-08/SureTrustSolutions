{
 "cells": [
  {
   "cell_type": "markdown",
   "id": "76a0ec55",
   "metadata": {},
   "source": [
    "Question 1: Calculate Euclidean distance\n",
    "\n",
    "Write a Python program to calculate Euclidean Distance."
   ]
  },
  {
   "cell_type": "code",
   "execution_count": null,
   "id": "cc24b978",
   "metadata": {},
   "outputs": [],
   "source": [
    "d = √[(x2 – x1)2 + (y2 – y1)2]"
   ]
  },
  {
   "cell_type": "code",
   "execution_count": 4,
   "id": "6774210e",
   "metadata": {},
   "outputs": [],
   "source": [
    "x1 = 6\n",
    "y1 = 7\n",
    "x2 = 5\n",
    "y2 = 4"
   ]
  },
  {
   "cell_type": "code",
   "execution_count": 7,
   "id": "6c423146",
   "metadata": {},
   "outputs": [
    {
     "data": {
      "text/plain": [
       "3.1622776601683795"
      ]
     },
     "execution_count": 7,
     "metadata": {},
     "output_type": "execute_result"
    }
   ],
   "source": [
    "((y2-y1)**2 +(x2-x1)**2)**0.5"
   ]
  },
  {
   "cell_type": "code",
   "execution_count": 15,
   "id": "5c975467",
   "metadata": {},
   "outputs": [],
   "source": [
    "strng = '1234abcd'\n"
   ]
  },
  {
   "cell_type": "code",
   "execution_count": 17,
   "id": "a0f7f6e5",
   "metadata": {},
   "outputs": [
    {
     "data": {
      "text/plain": [
       "'dcba4321'"
      ]
     },
     "execution_count": 17,
     "metadata": {},
     "output_type": "execute_result"
    }
   ],
   "source": [
    "strng[::-1]"
   ]
  },
  {
   "cell_type": "code",
   "execution_count": null,
   "id": "35921035",
   "metadata": {},
   "outputs": [],
   "source": [
    "[1, 7, 9, 2, 10]\n",
    "Output:\n",
    "[0, 3]"
   ]
  },
  {
   "cell_type": "code",
   "execution_count": 1,
   "id": "46e49a45",
   "metadata": {},
   "outputs": [
    {
     "name": "stdout",
     "output_type": "stream",
     "text": [
      "0 1\n",
      "1 7\n",
      "2 9\n",
      "3 2\n",
      "4 10\n"
     ]
    }
   ],
   "source": [
    "nums = [1, 7, 9, 2, 10]\n",
    "\n",
    "closest_dist = 0\n",
    "\n",
    "for ind, num in enumerate(nums):\n",
    "    #print(ind,num)\n",
    "    for ind2, num2 in enumerate(nums):\n",
    "        if abs(num)"
   ]
  },
  {
   "cell_type": "code",
   "execution_count": 18,
   "id": "4bde8546",
   "metadata": {},
   "outputs": [
    {
     "name": "stdout",
     "output_type": "stream",
     "text": [
      "[1,7,9,2,10]\n",
      "[0, 3]\n"
     ]
    }
   ],
   "source": [
    "def find_closest_pair(nums):\n",
    "    # 'closest_inds' will store the indices of the closest pair of numbers. \n",
    "    # Initially set to None since we haven't found any pair yet.\n",
    "    closest_inds = None\n",
    "    \n",
    "    # 'closest_dist' will store the smallest distance (difference) between two numbers.\n",
    "    # It is initialized as None to track the first comparison.\n",
    "    closest_dist = None\n",
    "    \n",
    "    # Outer loop: Iterating through the list of numbers 'nums' to get each number's index and value.\n",
    "    for ind, num in enumerate(nums):\n",
    "        \n",
    "        # Inner loop: Comparing 'num' with every other number in the list.\n",
    "        for other_ind, num2 in enumerate(nums):\n",
    "            \n",
    "            # If the two numbers are not the same (to avoid comparing a number with itself)\n",
    "            # AND if either 'closest_dist' is None (first comparison)\n",
    "            # OR the difference between the current pair is smaller than the stored 'closest_dist'\n",
    "            if num != num2 and ((closest_dist is None) or abs(num - num2) < closest_dist):\n",
    "                \n",
    "                # Update 'closest_dist' with the new smaller difference.\n",
    "                closest_dist = abs(num - num2)\n",
    "                \n",
    "                # Update 'closest_inds' to store the indices of the current closest pair of numbers.\n",
    "                closest_inds = [ind, other_ind]\n",
    "                \n",
    "                # Check if the first number 'num' is less than or equal to 'num2'.\n",
    "                # If true, keep 'ind' as the first index and 'other_ind' as the second index.\n",
    "                if num <= num2:\n",
    "                    closest_inds = [ind, other_ind]\n",
    "                \n",
    "                # If 'num' is greater than 'num2', reverse the order of indices.\n",
    "                else:\n",
    "                    closest_inds = [other_ind, ind]\n",
    "    \n",
    "    # After both loops finish, return the indices of the closest pair of numbers.\n",
    "    return closest_inds\n",
    "\n",
    "# Example list of numbers to test the function\n",
    "nums = eval(input())\n",
    "\n",
    "# Output the indices of the closest pair of numbers from the list.\n",
    "print(find_closest_pair(nums))"
   ]
  },
  {
   "cell_type": "code",
   "execution_count": null,
   "id": "83b53cc3",
   "metadata": {},
   "outputs": [],
   "source": []
  }
 ],
 "metadata": {
  "kernelspec": {
   "display_name": "Python 3 (ipykernel)",
   "language": "python",
   "name": "python3"
  },
  "language_info": {
   "codemirror_mode": {
    "name": "ipython",
    "version": 3
   },
   "file_extension": ".py",
   "mimetype": "text/x-python",
   "name": "python",
   "nbconvert_exporter": "python",
   "pygments_lexer": "ipython3",
   "version": "3.10.11"
  }
 },
 "nbformat": 4,
 "nbformat_minor": 5
}
