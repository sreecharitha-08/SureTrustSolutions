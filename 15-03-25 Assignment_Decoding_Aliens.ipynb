{
 "cells": [
  {
   "cell_type": "markdown",
   "metadata": {},
   "source": [
    "# <center><u>Python Data Structures Assignment: Decoding Aliens</u>"
   ]
  },
  {
   "cell_type": "markdown",
   "metadata": {
    "id": "DbG5aM4YkzEn"
   },
   "source": [
    "### The SETI Institute is a not-for-profit research organization incorporated in 1984 whose mission is to explore, understand, and explain the origin and nature of life in the universe, and to apply the knowledge gained to inspire and guide present and future generations. It aims for discovery and for sharing knowledge as scientific ambassadors to the public, the press, and the government. SETI stands for the \"Search for Extraterrestrial Intelligence\".\n",
    "\n",
    "### SETI received some signals from a far away galaxy on June 14, 2012. These signals could have been from a possible alien civilization (similar to what you would have seen in the movie Arrival).\n",
    "\n",
    "### The signals indicated the existence of a secret language for sending messages across. Following are the observations made by the SETI team who discovered these signals :\n",
    "\n",
    "*   Aliens share a **tuple**, each element of tuple will be a **string** of alphabets\n",
    "*   Scientists still don't know what is the content of the strings inside the tuples but depending upon the length of the string, the string translates into an alphabet (0 ≡  ,1 ≡ A, 2 ≡ B, 3 ≡ C, .., 26 ≡ Z)\n",
    "*   **Space** between the words of the message is represented by an **empty string**\n",
    "\n",
    "<br> <u>A sample message received by SETI </u><br>\n",
    "\n",
    "**ADAM EVE** is denoted by the following tuple:\n",
    "\n",
    "<code>\n",
    " t = (\"s\", \"dymw\", \"z\", \"ndkjaakjkjnda\",\"\",\"tybhg\",\"nmbcjbabdbsabbsbhdbshr\",\"htroy\" )</code>\n",
    "\n",
    "\n",
    "Explanation:\n",
    "* A list of length of each element in the tuple is : <code>[1,4,1,13,0,5,22,5]</code>\n",
    "* Upon replacing numbers with corresponding alphabets and spaces, we get :\n",
    "<code>['A','D','A','M','','E','V','E'] </code>\n",
    "\n",
    "\n",
    "\n",
    "\n",
    "\n",
    "\n",
    "\n",
    "\n"
   ]
  },
  {
   "cell_type": "markdown",
   "metadata": {
    "id": "7e3Q6vo0wzwB"
   },
   "source": [
    "### <u>Problem 1</u>\n",
    "#### You are given such a tuple of strings, what will be your approach to decode it?\n"
   ]
  },
  {
   "cell_type": "markdown",
   "metadata": {
    "id": "-SbIWTFjxzSf"
   },
   "source": [
    "#### Describe your approach (no code required, just write the steps) in the following steps (it could be less than 5) :\n",
    " - Step 1 : Store length of each element of tuple into a list   \n",
    " - Step 2 : Store the alphabets according to their position which is the length of corresponding tuple.\n",
    " - Step 3 : Replace the list of lengths with the corressponding alphabets and spaces\n",
    " - Step 4 : Combine list of alphabets and spaces to form final sequence of decoded characters\n",
    " - Step 5 : Return or print decoded sequence"
   ]
  },
  {
   "cell_type": "markdown",
   "metadata": {
    "id": "OpbPVo_bwo2B"
   },
   "source": [
    "### <u>Problem 2</u>\n",
    "Create a dictionary where the key corresponds to the position of the alphabet(consider space as the first alphabet) and the value corresponding to the key will be the alphabet."
   ]
  },
  {
   "cell_type": "code",
   "execution_count": 1,
   "metadata": {
    "colab": {
     "base_uri": "https://localhost:8080/"
    },
    "id": "l9K6_UWqkyOC",
    "outputId": "3432fe58-4b40-4b54-aabc-6861cdec8a6e"
   },
   "outputs": [
    {
     "data": {
      "text/plain": [
       "{'a': 1,\n",
       " 'b': 2,\n",
       " 'c': 3,\n",
       " 'd': 4,\n",
       " 'e': 5,\n",
       " 'f': 6,\n",
       " 'g': 7,\n",
       " 'h': 8,\n",
       " 'i': 9,\n",
       " 'j': 10,\n",
       " 'k': 11,\n",
       " 'l': 12,\n",
       " 'm': 13,\n",
       " 'n': 14,\n",
       " 'o': 15,\n",
       " 'p': 16,\n",
       " 'q': 17,\n",
       " 'r': 18,\n",
       " 's': 19,\n",
       " 't': 20,\n",
       " 'u': 21,\n",
       " 'v': 22,\n",
       " 'w': 23,\n",
       " 'x': 24,\n",
       " 'y': 25,\n",
       " 'z': 26}"
      ]
     },
     "execution_count": 1,
     "metadata": {},
     "output_type": "execute_result"
    }
   ],
   "source": [
    "# Create your dictionary below with keys as position of the alphabet and the value of the key will be the alphabet itself\n",
    "alphabet_dict = {chr(x+97) : x+1 for x in range(26)}\n",
    "alphabet_dict\n",
    "\n",
    "# Print your dictionary to double check;  any small mistake in numbering can screw up the results\n"
   ]
  },
  {
   "cell_type": "markdown",
   "metadata": {
    "id": "7KrqsmEsFEUu"
   },
   "source": [
    "### <u>Problem 3</u>\n",
    "\n",
    "#### Suppose you are given a particular value from the dictionary. Write the code to extract the corresponding key from the dictionary\n",
    "\n",
    "* For example, if you are given the value <code>'h'</code>, the corresponding key should be <code>8</code>"
   ]
  },
  {
   "cell_type": "code",
   "execution_count": 4,
   "metadata": {
    "colab": {
     "base_uri": "https://localhost:8080/"
    },
    "id": "5IcsMU8cJ8dX",
    "outputId": "731487b9-0eac-46d5-a0c6-d4e41f9e8505"
   },
   "outputs": [
    {
     "name": "stdout",
     "output_type": "stream",
     "text": [
      "{'a': 1, 'b': 2, 'c': 3, 'd': 4}\n",
      "dict_values([1, 2, 3, 4])\n",
      "dict_items([('a', 1), ('b', 2), ('c', 3), ('d', 4)])\n",
      "The position of b is:  2\n"
     ]
    }
   ],
   "source": [
    "dict1={'a':1,'b':2,'c':3,'d':4}\n",
    "print(dict1)\n",
    "       # Get your list of keys and print it out\n",
    "print(dict1.values())\n",
    "print(dict1.items())\n",
    "# Get your list of values and print it out\n",
    "# Your code to extract the key for a given value 'h'\n",
    "position = None\n",
    "for key,value in dict1.items():\n",
    "    if key=='b':\n",
    "        position=value\n",
    "        break\n",
    "print(f\"The position of {key} is: \",position)"
   ]
  },
  {
   "cell_type": "markdown",
   "metadata": {
    "id": "Lv-n7NZqKxET"
   },
   "source": [
    "### <u>Problem 4</u>\n",
    "#### Scientists receive the following message code from the alien civilization\n",
    "\n",
    "```\n",
    "encrypyted_message = (\"ajsuydtbe\", \"\", \"wunjbfusnjrgut\", \"uhbhr\", \"oirun\", \"lpef\", \"\", \"vhejsibr\", \"ydtse\", \"qlvuusrntuos\", \"ijwlbutybhlsoaxh\")\n",
    "```\n",
    "#### You have been asked to decode the above message"
   ]
  },
  {
   "cell_type": "code",
   "execution_count": 5,
   "metadata": {
    "id": "7CC7IqIdKP-q"
   },
   "outputs": [],
   "source": [
    "# Store the message in a variable\n",
    "encrypted_message =  (\"ajsuydtbe\", \"\", \"wunjbfusnjrgut\", \"uhbhr\", \"oirun\", \"lpef\", \"\", \"vhejsibr\", \"ydtse\", \"qlvuusrntuos\", \"ijwlbutybhlsoaxh\")"
   ]
  },
  {
   "cell_type": "code",
   "execution_count": 6,
   "metadata": {
    "colab": {
     "base_uri": "https://localhost:8080/",
     "height": 53
    },
    "id": "fxLQFN5QMH0I",
    "outputId": "d414443c-2f29-4ed5-924d-1563c704a5d9"
   },
   "outputs": [
    {
     "name": "stdout",
     "output_type": "stream",
     "text": [
      "[9, 0, 14, 5, 5, 4, 0, 8, 5, 12, 16]\n"
     ]
    }
   ],
   "source": [
    "# Follow the steps from your solution to problem 1\n",
    "\n",
    "# Create an empty list\n",
    "string_length_list  = []\n",
    "\n",
    "# Append the length of strings of your tuple one by one\n",
    "for i in encrypted_message:\n",
    "    string_length_list.append(len(i))\n",
    "\n",
    "print(string_length_list)\n",
    "# Print the list of string lengths\n"
   ]
  },
  {
   "cell_type": "code",
   "execution_count": 7,
   "metadata": {
    "colab": {
     "base_uri": "https://localhost:8080/"
    },
    "id": "qpvaTUsUNiu9",
    "outputId": "391c9561-b225-4be1-abca-215c7c3168f7"
   },
   "outputs": [
    {
     "name": "stdout",
     "output_type": "stream",
     "text": [
      "I NEED HELP\n"
     ]
    }
   ],
   "source": [
    "# Create a string to store the decrypyted messag\n",
    "nums=string_length_list\n",
    "alphabet_dict={0:' ',  1: 'A', 2: 'B', 3: 'C', 4: 'D', 5: 'E', 6: 'F', 7: 'G', 8: 'H', 9: 'I', \n",
    "                 10: 'J', 11: 'K', 12: 'L', 13: 'M', 14: 'N', 15: 'O', 16: 'P', 17: 'Q', 18: 'R', \n",
    "                 19: 'S', 20: 'T', 21: 'U', 22: 'V', 23: 'W', 24: 'X', 25: 'Y', 26: 'Z'}\n",
    "\n",
    "# Concatenate the characters one by one to get your final decoded message\n",
    "converted=\"\"\n",
    "for i in nums:\n",
    "    converted+=alphabet_dict.get(i)\n",
    "\n",
    "# Print the message you have decrypted\n",
    "print(converted)"
   ]
  },
  {
   "cell_type": "markdown",
   "metadata": {
    "id": "6xWhiIhnOqNP"
   },
   "source": [
    "### <u>Problem 5</u>\n",
    "\n",
    "#### Encrypt a message for the alien civilization which the scientists can send through the EM signals. Scientists want to ask the aliens <code>\"why\" </code>"
   ]
  },
  {
   "cell_type": "code",
   "execution_count": 8,
   "metadata": {
    "colab": {
     "base_uri": "https://localhost:8080/"
    },
    "id": "fPzUZpJ9RW18",
    "outputId": "ae64fe18-8623-47d3-f9a1-bec731bc3386"
   },
   "outputs": [
    {
     "name": "stdout",
     "output_type": "stream",
     "text": [
      "23 8 25 \n"
     ]
    }
   ],
   "source": [
    "def encrypted_message(msg):\n",
    "    encrypted =\"\" \n",
    "    for character in message:\n",
    "            position=ord(character.lower())-96\n",
    "            encrypted+=str(position)+\" \"  \n",
    "    return encrypted\n",
    "message='why'\n",
    "print(encrypted_message(message))"
   ]
  },
  {
   "cell_type": "markdown",
   "metadata": {
    "id": "aGrSn4cdQk3i"
   },
   "source": [
    "### <u>Problem 6</u>\n",
    "\n",
    "#### Get the encrypted message using the final list obtained in the above problem  where you will use only alphabet <code>\"a\"</code>"
   ]
  },
  {
   "cell_type": "code",
   "execution_count": 9,
   "metadata": {
    "colab": {
     "base_uri": "https://localhost:8080/"
    },
    "id": "lJzMBHcESkjP",
    "outputId": "a67653e6-93ae-4ecb-9468-d9f426cdeb64"
   },
   "outputs": [
    {
     "name": "stdout",
     "output_type": "stream",
     "text": [
      "['aaaaaaaaaaaaaaaaaaaaaaa', 'aaaaaaaa', 'aaaaaaaaaaaaaaaaaaaaaaaaa']\n"
     ]
    }
   ],
   "source": [
    "# Get the individual strings for \"w\",\"h\",\"y\"\n",
    "def generated(lengths):\n",
    "    a_let=['a'*i for i in lengths]\n",
    "    return a_let\n",
    "lens=[23,8,25]\n",
    "a_let=generated(lens)\n",
    "print(a_let)\n"
   ]
  },
  {
   "cell_type": "markdown",
   "metadata": {
    "id": "EaYw9Z03TlYa"
   },
   "source": [
    "### <u> Problem 7</u>\n",
    "\n",
    "#### Aliens receive the reply from the scientists. They decode the message and send an encrypted message again. Due to some aberrations because of an existing very massive star, one of the words of their message gets transformed into something gibberish/unreadable. They sent the following message:\n",
    "\n",
    "* <code> I saw a \\<**some gibberish**> please help me soon\n",
    "\n",
    "#### Scientists were baffled by the presence of such an indecipherable word in the message sent by Aliens. Suddenly they receive another signal from them which contains the gibberish word but this time the letters have been jumbled up. Scientists need to sort the letters of this word in alphabetical order within it to get the actual transmitted word\n",
    "\n",
    "#### The encoded list of the unknown word is:\n",
    "\n",
    "```\n",
    "jumbled_word = [\"hugdtck\", \"tsogbklesrawqcbjplu\", \"qkisrubskoaitbt\", \"nslaoetr\", \"oksinjioaendnjsdqwbh\"]\n",
    "```\n"
   ]
  },
  {
   "cell_type": "code",
   "execution_count": 1,
   "metadata": {
    "id": "--89g4fAVP6i"
   },
   "outputs": [],
   "source": [
    "# STore the list of jumbled word in a variable\n",
    "jumbled_word = [\"hugdtck\", \"tsogbklesrawqcbjplu\", \"qkisrubskoaitbt\", \"nslaoetr\", \"oksinjioaendnjsdqwbh\"]"
   ]
  },
  {
   "cell_type": "code",
   "execution_count": 3,
   "metadata": {
    "colab": {
     "base_uri": "https://localhost:8080/"
    },
    "id": "REhBM4O0WB6i",
    "outputId": "5172e662-3763-41f8-8494-f393f4d70d73"
   },
   "outputs": [
    {
     "name": "stdout",
     "output_type": "stream",
     "text": [
      "['c', 'd', 'g', 'h', 'k', 't', 'u']\n",
      "['a', 'b', 'b', 'c', 'e', 'g', 'j', 'k', 'l', 'l', 'o', 'p', 'q', 'r', 's', 's', 't', 'u', 'w']\n",
      "['a', 'b', 'b', 'i', 'i', 'k', 'k', 'o', 'q', 'r', 's', 's', 't', 't', 'u']\n",
      "['a', 'e', 'l', 'n', 'o', 'r', 's', 't']\n",
      "['a', 'b', 'd', 'd', 'e', 'h', 'i', 'i', 'j', 'j', 'k', 'n', 'n', 'n', 'o', 'o', 'q', 's', 's', 'w']\n"
     ]
    }
   ],
   "source": [
    "def sort_jumbled(jumbled_word):\n",
    "    sorted_words=[sorted(word) for word in jumbled_word]\n",
    "    return sorted_words\n",
    "sorted_words=sort_jumbled(jumbled_word)\n",
    "for word in sorted_words:\n",
    "    print(word)\n",
    "\n"
   ]
  }
 ],
 "metadata": {
  "colab": {
   "provenance": []
  },
  "kernelspec": {
   "display_name": "Python 3",
   "language": "python",
   "name": "python3"
  },
  "language_info": {
   "codemirror_mode": {
    "name": "ipython",
    "version": 3
   },
   "file_extension": ".py",
   "mimetype": "text/x-python",
   "name": "python",
   "nbconvert_exporter": "python",
   "pygments_lexer": "ipython3",
   "version": "3.13.2"
  }
 },
 "nbformat": 4,
 "nbformat_minor": 1
}
