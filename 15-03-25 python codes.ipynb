{
 "cells": [
  {
   "cell_type": "markdown",
   "id": "76a0ec55",
   "metadata": {},
   "source": [
    "Question 1: Calculate Euclidean distance\n",
    "\n",
    "Write a Python program to calculate Euclidean Distance."
   ]
  },
  {
   "cell_type": "code",
   "execution_count": 9,
   "id": "a4cae291",
   "metadata": {},
   "outputs": [
    {
     "name": "stdout",
     "output_type": "stream",
     "text": [
      "1 7 3 9\n",
      "2.8284271247461903\n"
     ]
    }
   ],
   "source": [
    "x1,x2,y1,y2=map(int,input().split()) \n",
    "print(x1,y1,x2,y2)\n",
    "d=((y2-y1)**2 +(x2-x1)**2)**0.5\n",
    "print(d)"
   ]
  },
  {
   "cell_type": "markdown",
   "id": "d777c6d1",
   "metadata": {},
   "source": [
    "Question 2:Reverse user input\n"
   ]
  },
  {
   "cell_type": "code",
   "execution_count": 1,
   "id": "5615bb5b",
   "metadata": {},
   "outputs": [
    {
     "name": "stdout",
     "output_type": "stream",
     "text": [
      "python\n"
     ]
    },
    {
     "data": {
      "text/plain": [
       "'nohtyp'"
      ]
     },
     "execution_count": 1,
     "metadata": {},
     "output_type": "execute_result"
    }
   ],
   "source": [
    "var=input()\n",
    "print(var)\n",
    "var[::-1]"
   ]
  },
  {
   "cell_type": "markdown",
   "id": "c48a7cfb",
   "metadata": {},
   "source": [
    "Question 3:Finding indices of Closest Temperatures"
   ]
  },
  {
   "cell_type": "code",
   "execution_count": 8,
   "id": "4bde8546",
   "metadata": {},
   "outputs": [
    {
     "name": "stdout",
     "output_type": "stream",
     "text": [
      "[0, 3]\n"
     ]
    }
   ],
   "source": [
    "def find_closest_pair(nums):\n",
    "    inds = None\n",
    "    dist = None\n",
    "    for ind, num in enumerate(nums):\n",
    "        for other_ind, num2 in enumerate(nums):\n",
    "            if num != num2 and ((dist is None) or abs(num - num2) < dist):\n",
    "                dist = abs(num - num2)\n",
    "                inds = [ind, other_ind]\n",
    "                if num <= num2:\n",
    "                    inds = [ind, other_ind]\n",
    "                else:\n",
    "                    inds = [other_ind, ind]\n",
    "    return inds\n",
    "nums = eval(input())\n",
    "print(find_closest_pair(nums))"
   ]
  },
  {
   "cell_type": "markdown",
   "id": "cfc13a5c",
   "metadata": {},
   "source": [
    "Question 4: Strange Sort: Alternating Smallest and Largest "
   ]
  },
  {
   "cell_type": "code",
   "execution_count": 11,
   "id": "a4517102",
   "metadata": {},
   "outputs": [],
   "source": [
    "def strange_sort(arr):\n",
    "    arr.sort()\n",
    "    result=[]\n",
    "    left,right=0,len(arr)-1\n",
    "    while left<=right:\n",
    "        result.append(arr[left])\n",
    "        left+=1 \n",
    "        if left <= right:\n",
    "            result.append(arr[right])\n",
    "            right-=1\n",
    "    return result"
   ]
  },
  {
   "cell_type": "code",
   "execution_count": 19,
   "id": "34bbcef3",
   "metadata": {},
   "outputs": [
    {
     "name": "stdout",
     "output_type": "stream",
     "text": [
      "The user input will be  [1, 3, 4, 5, 11]\n",
      "The strange sort for the given inputs will be:  [1, 11, 3, 5, 4]\n"
     ]
    }
   ],
   "source": [
    "nums=list(map(int,input().split(',')))\n",
    "print(\"The user input will be \",nums)\n",
    "print(\"The strange sort for the given inputs will be: \",strange_sort(nums))"
   ]
  },
  {
   "cell_type": "code",
   "execution_count": 12,
   "id": "bb88e17a",
   "metadata": {},
   "outputs": [
    {
     "name": "stdout",
     "output_type": "stream",
     "text": [
      "The user input will be  [7, 2, 10, 4, 8]\n",
      "The strange sort for the given inputs will be:  [2, 10, 4, 8, 7]\n"
     ]
    }
   ],
   "source": [
    "nums=list(map(int,input().split(',')))\n",
    "print(\"The user input will be \",nums)\n",
    "print(\"The strange sort for the given inputs will be: \",strange_sort(nums))"
   ]
  },
  {
   "cell_type": "markdown",
   "id": "3e608371",
   "metadata": {},
   "source": [
    "Question 5: Check if a String is Pangram "
   ]
  },
  {
   "cell_type": "code",
   "execution_count": 1,
   "id": "cff4fee5",
   "metadata": {},
   "outputs": [
    {
     "name": "stdout",
     "output_type": "stream",
     "text": [
      "User input :  The quick brown fox jumps over the lazy dog\n",
      "True\n"
     ]
    }
   ],
   "source": [
    "import string \n",
    "def is_pangram(sentence):\n",
    "    sentence=sentence.lower()\n",
    "    for letter in string.ascii_lowercase:\n",
    "        if letter not in sentence:\n",
    "            return False \n",
    "    return True\n",
    "sentence=input()\n",
    "print(\"User input : \",sentence)\n",
    "print(is_pangram(sentence))"
   ]
  }
 ],
 "metadata": {
  "kernelspec": {
   "display_name": "Python 3",
   "language": "python",
   "name": "python3"
  },
  "language_info": {
   "codemirror_mode": {
    "name": "ipython",
    "version": 3
   },
   "file_extension": ".py",
   "mimetype": "text/x-python",
   "name": "python",
   "nbconvert_exporter": "python",
   "pygments_lexer": "ipython3",
   "version": "3.13.2"
  }
 },
 "nbformat": 4,
 "nbformat_minor": 5
}
