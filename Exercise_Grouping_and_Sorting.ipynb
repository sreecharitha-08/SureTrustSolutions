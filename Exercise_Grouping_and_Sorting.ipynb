{
  "metadata": {
    "kernelspec": {
      "display_name": "Python 3",
      "language": "python",
      "name": "python3"
    },
    "language_info": {
      "name": "python",
      "version": "3.11.11",
      "mimetype": "text/x-python",
      "codemirror_mode": {
        "name": "ipython",
        "version": 3
      },
      "pygments_lexer": "ipython3",
      "nbconvert_exporter": "python",
      "file_extension": ".py"
    },
    "kaggle": {
      "accelerator": "none",
      "dataSources": [
        {
          "sourceId": 1252,
          "sourceType": "datasetVersion",
          "datasetId": 655
        },
        {
          "sourceId": 3919,
          "sourceType": "datasetVersion",
          "datasetId": 2321
        },
        {
          "sourceId": 4877,
          "sourceType": "datasetVersion",
          "datasetId": 2894
        },
        {
          "sourceId": 5624,
          "sourceType": "datasetVersion",
          "datasetId": 3491
        },
        {
          "sourceId": 8172,
          "sourceType": "datasetVersion",
          "datasetId": 1442
        },
        {
          "sourceId": 13206,
          "sourceType": "datasetVersion",
          "datasetId": 9366
        },
        {
          "sourceId": 403916,
          "sourceType": "datasetVersion",
          "datasetId": 179555
        },
        {
          "sourceId": 466349,
          "sourceType": "datasetVersion",
          "datasetId": 4549
        },
        {
          "sourceId": 1151655,
          "sourceType": "datasetVersion",
          "datasetId": 2478
        },
        {
          "sourceId": 5438389,
          "sourceType": "datasetVersion",
          "datasetId": 10128
        }
      ],
      "isInternetEnabled": false,
      "language": "python",
      "sourceType": "notebook",
      "isGpuEnabled": false
    },
    "colab": {
      "name": "Exercise: Grouping and Sorting",
      "provenance": [],
      "include_colab_link": true
    }
  },
  "nbformat_minor": 0,
  "nbformat": 4,
  "cells": [
    {
      "cell_type": "markdown",
      "metadata": {
        "id": "view-in-github",
        "colab_type": "text"
      },
      "source": [
        "<a href=\"https://colab.research.google.com/github/sreecharitha-08/SureTrustSolutions/blob/main/Exercise_Grouping_and_Sorting.ipynb\" target=\"_parent\"><img src=\"https://colab.research.google.com/assets/colab-badge.svg\" alt=\"Open In Colab\"/></a>"
      ]
    },
    {
      "source": [
        "# IMPORTANT: RUN THIS CELL IN ORDER TO IMPORT YOUR KAGGLE DATA SOURCES,\n",
        "# THEN FEEL FREE TO DELETE THIS CELL.\n",
        "# NOTE: THIS NOTEBOOK ENVIRONMENT DIFFERS FROM KAGGLE'S PYTHON\n",
        "# ENVIRONMENT SO THERE MAY BE MISSING LIBRARIES USED BY YOUR\n",
        "# NOTEBOOK.\n",
        "import kagglehub\n",
        "nolanbconaway_pitchfork_data_path = kagglehub.dataset_download('nolanbconaway/pitchfork-data')\n",
        "datasnaek_chess_path = kagglehub.dataset_download('datasnaek/chess')\n",
        "organizations_nasa_kepler_exoplanet_search_results_path = kagglehub.dataset_download('organizations/nasa/kepler-exoplanet-search-results')\n",
        "residentmario_things_on_reddit_path = kagglehub.dataset_download('residentmario/things-on-reddit')\n",
        "zynicide_wine_reviews_path = kagglehub.dataset_download('zynicide/wine-reviews')\n",
        "residentmario_ramen_ratings_path = kagglehub.dataset_download('residentmario/ramen-ratings')\n",
        "dansbecker_powerlifting_database_path = kagglehub.dataset_download('dansbecker/powerlifting-database')\n",
        "datasnaek_youtube_new_path = kagglehub.dataset_download('datasnaek/youtube-new')\n",
        "rtatman_188_million_us_wildfires_path = kagglehub.dataset_download('rtatman/188-million-us-wildfires')\n",
        "jpmiller_publicassistance_path = kagglehub.dataset_download('jpmiller/publicassistance')\n",
        "\n",
        "print('Data source import complete.')\n"
      ],
      "metadata": {
        "id": "FvHKDMMtc_4T"
      },
      "cell_type": "code",
      "outputs": [],
      "execution_count": null
    },
    {
      "cell_type": "markdown",
      "source": [
        "**This notebook is an exercise in the [Pandas](https://www.kaggle.com/learn/pandas) course.  You can reference the tutorial at [this link](https://www.kaggle.com/residentmario/grouping-and-sorting).**\n",
        "\n",
        "---\n"
      ],
      "metadata": {
        "id": "aT3cUKfSc_4W"
      }
    },
    {
      "cell_type": "markdown",
      "source": [
        "# Introduction\n",
        "\n",
        "In these exercises we'll apply groupwise analysis to our dataset.\n",
        "\n",
        "Run the code cell below to load the data before running the exercises."
      ],
      "metadata": {
        "id": "BKn9wOY6c_4X"
      }
    },
    {
      "cell_type": "code",
      "source": [
        "import pandas as pd\n",
        "\n",
        "reviews = pd.read_csv(\"../input/wine-reviews/winemag-data-130k-v2.csv\", index_col=0)\n",
        "pd.set_option(\"display.max_rows\", 5)\n",
        "\n",
        "from learntools.core import binder; binder.bind(globals())\n",
        "from learntools.pandas.grouping_and_sorting import *\n",
        "print(\"Setup complete.\")"
      ],
      "metadata": {
        "trusted": true,
        "execution": {
          "iopub.status.busy": "2025-04-13T09:11:21.239194Z",
          "iopub.execute_input": "2025-04-13T09:11:21.239974Z",
          "iopub.status.idle": "2025-04-13T09:11:22.399695Z",
          "shell.execute_reply.started": "2025-04-13T09:11:21.239937Z",
          "shell.execute_reply": "2025-04-13T09:11:22.398694Z"
        },
        "id": "St_Gna7Yc_4X",
        "outputId": "91a46a74-dc5b-4f08-865a-90782eac6181"
      },
      "outputs": [
        {
          "name": "stdout",
          "text": "Setup complete.\n",
          "output_type": "stream"
        }
      ],
      "execution_count": null
    },
    {
      "cell_type": "markdown",
      "source": [
        "# Exercises"
      ],
      "metadata": {
        "id": "H_7FHb5Jc_4Y"
      }
    },
    {
      "cell_type": "markdown",
      "source": [
        "## 1.\n",
        "Who are the most common wine reviewers in the dataset? Create a `Series` whose index is the `taster_twitter_handle` category from the dataset, and whose values count how many reviews each person wrote."
      ],
      "metadata": {
        "id": "O4l62k7rc_4Y"
      }
    },
    {
      "cell_type": "code",
      "source": [
        "# Your code here\n",
        "reviews_written = reviews.groupby('taster_twitter_handle').size()\n",
        "# Check your answer\n",
        "q1.check()"
      ],
      "metadata": {
        "trusted": true,
        "execution": {
          "iopub.status.busy": "2025-04-13T09:11:58.453818Z",
          "iopub.execute_input": "2025-04-13T09:11:58.454148Z",
          "iopub.status.idle": "2025-04-13T09:11:58.47358Z",
          "shell.execute_reply.started": "2025-04-13T09:11:58.454124Z",
          "shell.execute_reply": "2025-04-13T09:11:58.472779Z"
        },
        "id": "0fE77pdOc_4Y",
        "outputId": "246c6933-a753-4745-db54-d7f0029d914c"
      },
      "outputs": [
        {
          "output_type": "display_data",
          "data": {
            "text/plain": "<IPython.core.display.Javascript object>",
            "application/javascript": "parent.postMessage({\"jupyterEvent\": \"custom.exercise_interaction\", \"data\": {\"outcomeType\": 1, \"valueTowardsCompletion\": 0.16666666666666666, \"interactionType\": 1, \"questionType\": 1, \"questionId\": \"1_ReviewsWritten\", \"learnToolsVersion\": \"0.3.5\", \"failureMessage\": \"\", \"exceptionClass\": \"\", \"trace\": \"\"}}, \"*\")"
          },
          "metadata": {}
        },
        {
          "output_type": "display_data",
          "data": {
            "text/plain": "Correct: \n\n\n```python\nreviews_written = reviews.groupby('taster_twitter_handle').size()\n```\nor\n```python\nreviews_written = reviews.groupby('taster_twitter_handle').taster_twitter_handle.count()\n```",
            "text/markdown": "<span style=\"color:#33cc33\">Correct:</span> \n\n\n```python\nreviews_written = reviews.groupby('taster_twitter_handle').size()\n```\nor\n```python\nreviews_written = reviews.groupby('taster_twitter_handle').taster_twitter_handle.count()\n```\n"
          },
          "metadata": {}
        }
      ],
      "execution_count": null
    },
    {
      "cell_type": "code",
      "source": [
        "#q1.hint()\n",
        "#q1.solution()"
      ],
      "metadata": {
        "trusted": true,
        "execution": {
          "iopub.status.busy": "2025-04-13T09:12:13.113053Z",
          "iopub.execute_input": "2025-04-13T09:12:13.113809Z",
          "iopub.status.idle": "2025-04-13T09:12:13.117999Z",
          "shell.execute_reply.started": "2025-04-13T09:12:13.113779Z",
          "shell.execute_reply": "2025-04-13T09:12:13.117035Z"
        },
        "id": "jvYN2YMdc_4Z"
      },
      "outputs": [],
      "execution_count": null
    },
    {
      "cell_type": "markdown",
      "source": [
        "## 2.\n",
        "What is the best wine I can buy for a given amount of money? Create a `Series` whose index is wine prices and whose values is the maximum number of points a wine costing that much was given in a review. Sort the values by price, ascending (so that `4.0` dollars is at the top and `3300.0` dollars is at the bottom)."
      ],
      "metadata": {
        "id": "D8CPBPSqc_4Z"
      }
    },
    {
      "cell_type": "code",
      "source": [
        "best_rating_per_price =  reviews.groupby('price')['points'].max().sort_index()\n",
        "\n",
        "# Check your answer\n",
        "q2.check()"
      ],
      "metadata": {
        "trusted": true,
        "execution": {
          "iopub.status.busy": "2025-04-13T09:12:42.134755Z",
          "iopub.execute_input": "2025-04-13T09:12:42.135477Z",
          "iopub.status.idle": "2025-04-13T09:12:42.146996Z",
          "shell.execute_reply.started": "2025-04-13T09:12:42.135451Z",
          "shell.execute_reply": "2025-04-13T09:12:42.146047Z"
        },
        "id": "xoGBDtf4c_4Z",
        "outputId": "5b6ff237-33af-4e39-bd06-9771b161c803"
      },
      "outputs": [
        {
          "output_type": "display_data",
          "data": {
            "text/plain": "<IPython.core.display.Javascript object>",
            "application/javascript": "parent.postMessage({\"jupyterEvent\": \"custom.exercise_interaction\", \"data\": {\"outcomeType\": 1, \"valueTowardsCompletion\": 0.16666666666666666, \"interactionType\": 1, \"questionType\": 1, \"questionId\": \"2_BestRatingPerPrice\", \"learnToolsVersion\": \"0.3.5\", \"failureMessage\": \"\", \"exceptionClass\": \"\", \"trace\": \"\"}}, \"*\")"
          },
          "metadata": {}
        },
        {
          "output_type": "display_data",
          "data": {
            "text/plain": "Correct",
            "text/markdown": "<span style=\"color:#33cc33\">Correct</span>"
          },
          "metadata": {}
        }
      ],
      "execution_count": null
    },
    {
      "cell_type": "code",
      "source": [
        "#q2.hint()\n",
        "#q2.solution()"
      ],
      "metadata": {
        "trusted": true,
        "execution": {
          "iopub.status.busy": "2025-04-13T09:12:52.415538Z",
          "iopub.execute_input": "2025-04-13T09:12:52.415879Z",
          "iopub.status.idle": "2025-04-13T09:12:52.420911Z",
          "shell.execute_reply.started": "2025-04-13T09:12:52.415854Z",
          "shell.execute_reply": "2025-04-13T09:12:52.41993Z"
        },
        "id": "ceY5sSuYc_4a"
      },
      "outputs": [],
      "execution_count": null
    },
    {
      "cell_type": "markdown",
      "source": [
        "## 3.\n",
        "What are the minimum and maximum prices for each `variety` of wine? Create a `DataFrame` whose index is the `variety` category from the dataset and whose values are the `min` and `max` values thereof."
      ],
      "metadata": {
        "id": "eZOEiJJjc_4a"
      }
    },
    {
      "cell_type": "code",
      "source": [
        "price_extremes = reviews.groupby('variety').price.agg(['min', 'max'])\n",
        "\n",
        "# Check your answer\n",
        "q3.check()"
      ],
      "metadata": {
        "trusted": true,
        "execution": {
          "iopub.status.busy": "2025-04-13T09:15:55.932095Z",
          "iopub.execute_input": "2025-04-13T09:15:55.932411Z",
          "iopub.status.idle": "2025-04-13T09:15:55.95542Z",
          "shell.execute_reply.started": "2025-04-13T09:15:55.932389Z",
          "shell.execute_reply": "2025-04-13T09:15:55.954422Z"
        },
        "id": "7BwUuk8Qc_4a",
        "outputId": "0a402167-99f7-4fe1-d676-7f86be842114"
      },
      "outputs": [
        {
          "output_type": "display_data",
          "data": {
            "text/plain": "<IPython.core.display.Javascript object>",
            "application/javascript": "parent.postMessage({\"jupyterEvent\": \"custom.exercise_interaction\", \"data\": {\"outcomeType\": 1, \"valueTowardsCompletion\": 0.16666666666666666, \"interactionType\": 1, \"questionType\": 1, \"questionId\": \"3_PriceExtremes\", \"learnToolsVersion\": \"0.3.5\", \"failureMessage\": \"\", \"exceptionClass\": \"\", \"trace\": \"\"}}, \"*\")"
          },
          "metadata": {}
        },
        {
          "output_type": "display_data",
          "data": {
            "text/plain": "Correct",
            "text/markdown": "<span style=\"color:#33cc33\">Correct</span>"
          },
          "metadata": {}
        }
      ],
      "execution_count": null
    },
    {
      "cell_type": "code",
      "source": [
        "#q3.hint()\n",
        "#q3.solution()"
      ],
      "metadata": {
        "trusted": true,
        "execution": {
          "iopub.status.busy": "2025-04-13T09:16:08.622828Z",
          "iopub.execute_input": "2025-04-13T09:16:08.623179Z",
          "iopub.status.idle": "2025-04-13T09:16:08.627629Z",
          "shell.execute_reply.started": "2025-04-13T09:16:08.623158Z",
          "shell.execute_reply": "2025-04-13T09:16:08.626493Z"
        },
        "id": "Mvfpsjzoc_4a"
      },
      "outputs": [],
      "execution_count": null
    },
    {
      "cell_type": "markdown",
      "source": [
        "## 4.\n",
        "What are the most expensive wine varieties? Create a variable `sorted_varieties` containing a copy of the dataframe from the previous question where varieties are sorted in descending order based on minimum price, then on maximum price (to break ties)."
      ],
      "metadata": {
        "id": "3fQJwOMhc_4a"
      }
    },
    {
      "cell_type": "code",
      "source": [
        "sorted_varieties = price_extremes.sort_values(by=['min', 'max'], ascending=False)\n",
        "\n",
        "# Check your answer\n",
        "q4.check()"
      ],
      "metadata": {
        "trusted": true,
        "execution": {
          "iopub.status.busy": "2025-04-13T09:16:42.301989Z",
          "iopub.execute_input": "2025-04-13T09:16:42.3023Z",
          "iopub.status.idle": "2025-04-13T09:16:42.312379Z",
          "shell.execute_reply.started": "2025-04-13T09:16:42.302279Z",
          "shell.execute_reply": "2025-04-13T09:16:42.311648Z"
        },
        "id": "RhDUqMgwc_4a",
        "outputId": "67c74821-f0b7-44ee-abf4-cbc63a8e5040"
      },
      "outputs": [
        {
          "output_type": "display_data",
          "data": {
            "text/plain": "<IPython.core.display.Javascript object>",
            "application/javascript": "parent.postMessage({\"jupyterEvent\": \"custom.exercise_interaction\", \"data\": {\"outcomeType\": 1, \"valueTowardsCompletion\": 0.16666666666666666, \"interactionType\": 1, \"questionType\": 1, \"questionId\": \"4_SortedVarieties\", \"learnToolsVersion\": \"0.3.5\", \"failureMessage\": \"\", \"exceptionClass\": \"\", \"trace\": \"\"}}, \"*\")"
          },
          "metadata": {}
        },
        {
          "output_type": "display_data",
          "data": {
            "text/plain": "Correct",
            "text/markdown": "<span style=\"color:#33cc33\">Correct</span>"
          },
          "metadata": {}
        }
      ],
      "execution_count": null
    },
    {
      "cell_type": "code",
      "source": [
        "#q4.hint()\n",
        "#q4.solution()"
      ],
      "metadata": {
        "trusted": true,
        "execution": {
          "iopub.status.busy": "2025-04-13T09:16:52.630752Z",
          "iopub.execute_input": "2025-04-13T09:16:52.631538Z",
          "iopub.status.idle": "2025-04-13T09:16:52.635114Z",
          "shell.execute_reply.started": "2025-04-13T09:16:52.631508Z",
          "shell.execute_reply": "2025-04-13T09:16:52.634316Z"
        },
        "id": "WbeYJltPc_4b"
      },
      "outputs": [],
      "execution_count": null
    },
    {
      "cell_type": "markdown",
      "source": [
        "## 5.\n",
        "Create a `Series` whose index is reviewers and whose values is the average review score given out by that reviewer. Hint: you will need the `taster_name` and `points` columns."
      ],
      "metadata": {
        "id": "Z6okdOqXc_4b"
      }
    },
    {
      "cell_type": "code",
      "source": [
        "reviewer_mean_ratings = reviews.groupby('taster_name').points.mean()\n",
        "\n",
        "# Check your answer\n",
        "q5.check()"
      ],
      "metadata": {
        "trusted": true,
        "execution": {
          "iopub.status.busy": "2025-04-13T09:17:23.19666Z",
          "iopub.execute_input": "2025-04-13T09:17:23.196945Z",
          "iopub.status.idle": "2025-04-13T09:17:23.216944Z",
          "shell.execute_reply.started": "2025-04-13T09:17:23.196925Z",
          "shell.execute_reply": "2025-04-13T09:17:23.215871Z"
        },
        "id": "K1Y3fJkoc_4b",
        "outputId": "8303ea38-f6ea-4731-8943-85f2d4323daa"
      },
      "outputs": [
        {
          "output_type": "display_data",
          "data": {
            "text/plain": "<IPython.core.display.Javascript object>",
            "application/javascript": "parent.postMessage({\"jupyterEvent\": \"custom.exercise_interaction\", \"data\": {\"outcomeType\": 1, \"valueTowardsCompletion\": 0.16666666666666666, \"interactionType\": 1, \"questionType\": 1, \"questionId\": \"5_ReviewerMeanRatings\", \"learnToolsVersion\": \"0.3.5\", \"failureMessage\": \"\", \"exceptionClass\": \"\", \"trace\": \"\"}}, \"*\")"
          },
          "metadata": {}
        },
        {
          "output_type": "display_data",
          "data": {
            "text/plain": "Correct",
            "text/markdown": "<span style=\"color:#33cc33\">Correct</span>"
          },
          "metadata": {}
        }
      ],
      "execution_count": null
    },
    {
      "cell_type": "code",
      "source": [
        "#q5.hint()\n",
        "#q5.solution()"
      ],
      "metadata": {
        "trusted": true,
        "execution": {
          "iopub.status.busy": "2025-04-13T09:17:31.136004Z",
          "iopub.execute_input": "2025-04-13T09:17:31.136293Z",
          "iopub.status.idle": "2025-04-13T09:17:31.140041Z",
          "shell.execute_reply.started": "2025-04-13T09:17:31.136273Z",
          "shell.execute_reply": "2025-04-13T09:17:31.139087Z"
        },
        "id": "_KtPz_WIc_4b"
      },
      "outputs": [],
      "execution_count": null
    },
    {
      "cell_type": "markdown",
      "source": [
        "Are there significant differences in the average scores assigned by the various reviewers? Run the cell below to use the `describe()` method to see a summary of the range of values."
      ],
      "metadata": {
        "id": "EVV2fa6hc_4b"
      }
    },
    {
      "cell_type": "code",
      "source": [
        "reviewer_mean_ratings.describe()"
      ],
      "metadata": {
        "trusted": true,
        "execution": {
          "iopub.status.busy": "2025-04-13T09:17:37.518039Z",
          "iopub.execute_input": "2025-04-13T09:17:37.518339Z",
          "iopub.status.idle": "2025-04-13T09:17:37.530309Z",
          "shell.execute_reply.started": "2025-04-13T09:17:37.518317Z",
          "shell.execute_reply": "2025-04-13T09:17:37.529409Z"
        },
        "id": "8KTh0AdDc_4b",
        "outputId": "fb8509a6-81cb-45b2-be01-c0c92f316098"
      },
      "outputs": [
        {
          "execution_count": 19,
          "output_type": "execute_result",
          "data": {
            "text/plain": "count    19.000000\nmean     88.233026\n           ...    \n75%      88.975256\nmax      90.562551\nName: points, Length: 8, dtype: float64"
          },
          "metadata": {}
        }
      ],
      "execution_count": null
    },
    {
      "cell_type": "markdown",
      "source": [
        "## 6.\n",
        "What combination of countries and varieties are most common? Create a `Series` whose index is a `MultiIndex`of `{country, variety}` pairs. For example, a pinot noir produced in the US should map to `{\"US\", \"Pinot Noir\"}`. Sort the values in the `Series` in descending order based on wine count."
      ],
      "metadata": {
        "id": "91Cvmy3Nc_4b"
      }
    },
    {
      "cell_type": "code",
      "source": [
        "country_variety_counts = reviews.groupby(['country', 'variety']).size().sort_values(ascending=False)\n",
        "\n",
        "# Check your answer\n",
        "q6.check()"
      ],
      "metadata": {
        "trusted": true,
        "execution": {
          "iopub.status.busy": "2025-04-13T09:18:04.560246Z",
          "iopub.execute_input": "2025-04-13T09:18:04.560539Z",
          "iopub.status.idle": "2025-04-13T09:18:04.595062Z",
          "shell.execute_reply.started": "2025-04-13T09:18:04.560519Z",
          "shell.execute_reply": "2025-04-13T09:18:04.594073Z"
        },
        "id": "xE4TWosKc_4c",
        "outputId": "b4f68065-1844-49e5-d3b3-3b3dba99bfb7"
      },
      "outputs": [
        {
          "output_type": "display_data",
          "data": {
            "text/plain": "<IPython.core.display.Javascript object>",
            "application/javascript": "parent.postMessage({\"jupyterEvent\": \"custom.exercise_interaction\", \"data\": {\"outcomeType\": 1, \"valueTowardsCompletion\": 0.16666666666666666, \"interactionType\": 1, \"questionType\": 1, \"questionId\": \"6_GroupbyCountryVariety\", \"learnToolsVersion\": \"0.3.5\", \"failureMessage\": \"\", \"exceptionClass\": \"\", \"trace\": \"\"}}, \"*\")"
          },
          "metadata": {}
        },
        {
          "output_type": "display_data",
          "data": {
            "text/plain": "Correct",
            "text/markdown": "<span style=\"color:#33cc33\">Correct</span>"
          },
          "metadata": {}
        }
      ],
      "execution_count": null
    },
    {
      "cell_type": "code",
      "source": [
        "#q6.hint()\n",
        "#q6.solution()"
      ],
      "metadata": {
        "trusted": true,
        "execution": {
          "iopub.status.busy": "2025-04-13T09:18:14.470069Z",
          "iopub.execute_input": "2025-04-13T09:18:14.470772Z",
          "iopub.status.idle": "2025-04-13T09:18:14.47451Z",
          "shell.execute_reply.started": "2025-04-13T09:18:14.470743Z",
          "shell.execute_reply": "2025-04-13T09:18:14.47354Z"
        },
        "id": "ft1dfZrTc_4c"
      },
      "outputs": [],
      "execution_count": null
    },
    {
      "cell_type": "markdown",
      "source": [
        "# Keep going\n",
        "\n",
        "Move on to the [**data types and missing data**](https://www.kaggle.com/residentmario/data-types-and-missing-values)."
      ],
      "metadata": {
        "id": "Ngthm3GPc_4c"
      }
    },
    {
      "cell_type": "markdown",
      "source": [
        "---\n",
        "\n",
        "\n",
        "\n",
        "\n",
        "*Have questions or comments? Visit the [course discussion forum](https://www.kaggle.com/learn/pandas/discussion) to chat with other learners.*"
      ],
      "metadata": {
        "id": "Crbubsbfc_4c"
      }
    }
  ]
}